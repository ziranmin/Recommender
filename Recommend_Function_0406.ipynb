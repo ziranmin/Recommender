{
 "cells": [
  {
   "cell_type": "code",
   "execution_count": 93,
   "metadata": {},
   "outputs": [],
   "source": [
    "import numpy as np \n",
    "import pandas as pd\n",
    "import matplotlib.pyplot as plt\n",
    "import seaborn as sns\n",
    "import warnings\n",
    "warnings.filterwarnings('ignore')"
   ]
  },
  {
   "cell_type": "markdown",
   "metadata": {},
   "source": [
    "# Read Rating Data"
   ]
  },
  {
   "cell_type": "code",
   "execution_count": 94,
   "metadata": {},
   "outputs": [
    {
     "data": {
      "text/plain": [
       "(100836, 4)"
      ]
     },
     "execution_count": 94,
     "metadata": {},
     "output_type": "execute_result"
    }
   ],
   "source": [
    "rating_data=pd.read_csv('/Users/ziranmin/Desktop/Sophia课/ml-latest-small/ratings.csv')\n",
    "rating_data.shape"
   ]
  },
  {
   "cell_type": "code",
   "execution_count": 95,
   "metadata": {},
   "outputs": [
    {
     "data": {
      "text/html": [
       "<div>\n",
       "<style scoped>\n",
       "    .dataframe tbody tr th:only-of-type {\n",
       "        vertical-align: middle;\n",
       "    }\n",
       "\n",
       "    .dataframe tbody tr th {\n",
       "        vertical-align: top;\n",
       "    }\n",
       "\n",
       "    .dataframe thead th {\n",
       "        text-align: right;\n",
       "    }\n",
       "</style>\n",
       "<table border=\"1\" class=\"dataframe\">\n",
       "  <thead>\n",
       "    <tr style=\"text-align: right;\">\n",
       "      <th></th>\n",
       "      <th>userId</th>\n",
       "      <th>movieId</th>\n",
       "      <th>rating</th>\n",
       "      <th>timestamp</th>\n",
       "    </tr>\n",
       "  </thead>\n",
       "  <tbody>\n",
       "    <tr>\n",
       "      <th>0</th>\n",
       "      <td>1</td>\n",
       "      <td>1</td>\n",
       "      <td>4.0</td>\n",
       "      <td>964982703</td>\n",
       "    </tr>\n",
       "    <tr>\n",
       "      <th>1</th>\n",
       "      <td>1</td>\n",
       "      <td>3</td>\n",
       "      <td>4.0</td>\n",
       "      <td>964981247</td>\n",
       "    </tr>\n",
       "    <tr>\n",
       "      <th>2</th>\n",
       "      <td>1</td>\n",
       "      <td>6</td>\n",
       "      <td>4.0</td>\n",
       "      <td>964982224</td>\n",
       "    </tr>\n",
       "    <tr>\n",
       "      <th>3</th>\n",
       "      <td>1</td>\n",
       "      <td>47</td>\n",
       "      <td>5.0</td>\n",
       "      <td>964983815</td>\n",
       "    </tr>\n",
       "    <tr>\n",
       "      <th>4</th>\n",
       "      <td>1</td>\n",
       "      <td>50</td>\n",
       "      <td>5.0</td>\n",
       "      <td>964982931</td>\n",
       "    </tr>\n",
       "  </tbody>\n",
       "</table>\n",
       "</div>"
      ],
      "text/plain": [
       "   userId  movieId  rating  timestamp\n",
       "0       1        1     4.0  964982703\n",
       "1       1        3     4.0  964981247\n",
       "2       1        6     4.0  964982224\n",
       "3       1       47     5.0  964983815\n",
       "4       1       50     5.0  964982931"
      ]
     },
     "execution_count": 95,
     "metadata": {},
     "output_type": "execute_result"
    }
   ],
   "source": [
    "rating_data.head()"
   ]
  },
  {
   "cell_type": "markdown",
   "metadata": {},
   "source": [
    "# Reshape to Matrix"
   ]
  },
  {
   "cell_type": "code",
   "execution_count": 96,
   "metadata": {},
   "outputs": [],
   "source": [
    "reshap_rating_data = rating_data.pivot(index='movieId', columns='userId', values='rating')"
   ]
  },
  {
   "cell_type": "code",
   "execution_count": 97,
   "metadata": {},
   "outputs": [
    {
     "data": {
      "text/html": [
       "<div>\n",
       "<style scoped>\n",
       "    .dataframe tbody tr th:only-of-type {\n",
       "        vertical-align: middle;\n",
       "    }\n",
       "\n",
       "    .dataframe tbody tr th {\n",
       "        vertical-align: top;\n",
       "    }\n",
       "\n",
       "    .dataframe thead th {\n",
       "        text-align: right;\n",
       "    }\n",
       "</style>\n",
       "<table border=\"1\" class=\"dataframe\">\n",
       "  <thead>\n",
       "    <tr style=\"text-align: right;\">\n",
       "      <th></th>\n",
       "      <th>movieId</th>\n",
       "      <th>1</th>\n",
       "      <th>2</th>\n",
       "      <th>3</th>\n",
       "      <th>4</th>\n",
       "      <th>5</th>\n",
       "      <th>6</th>\n",
       "      <th>7</th>\n",
       "      <th>8</th>\n",
       "      <th>9</th>\n",
       "      <th>...</th>\n",
       "      <th>601</th>\n",
       "      <th>602</th>\n",
       "      <th>603</th>\n",
       "      <th>604</th>\n",
       "      <th>605</th>\n",
       "      <th>606</th>\n",
       "      <th>607</th>\n",
       "      <th>608</th>\n",
       "      <th>609</th>\n",
       "      <th>610</th>\n",
       "    </tr>\n",
       "  </thead>\n",
       "  <tbody>\n",
       "    <tr>\n",
       "      <th>0</th>\n",
       "      <td>1</td>\n",
       "      <td>4.0</td>\n",
       "      <td>NaN</td>\n",
       "      <td>NaN</td>\n",
       "      <td>NaN</td>\n",
       "      <td>4.0</td>\n",
       "      <td>NaN</td>\n",
       "      <td>4.5</td>\n",
       "      <td>NaN</td>\n",
       "      <td>NaN</td>\n",
       "      <td>...</td>\n",
       "      <td>4.0</td>\n",
       "      <td>NaN</td>\n",
       "      <td>4.0</td>\n",
       "      <td>3.0</td>\n",
       "      <td>4.0</td>\n",
       "      <td>2.5</td>\n",
       "      <td>4.0</td>\n",
       "      <td>2.5</td>\n",
       "      <td>3.0</td>\n",
       "      <td>5.0</td>\n",
       "    </tr>\n",
       "    <tr>\n",
       "      <th>1</th>\n",
       "      <td>2</td>\n",
       "      <td>NaN</td>\n",
       "      <td>NaN</td>\n",
       "      <td>NaN</td>\n",
       "      <td>NaN</td>\n",
       "      <td>NaN</td>\n",
       "      <td>4.0</td>\n",
       "      <td>NaN</td>\n",
       "      <td>4.0</td>\n",
       "      <td>NaN</td>\n",
       "      <td>...</td>\n",
       "      <td>NaN</td>\n",
       "      <td>4.0</td>\n",
       "      <td>NaN</td>\n",
       "      <td>5.0</td>\n",
       "      <td>3.5</td>\n",
       "      <td>NaN</td>\n",
       "      <td>NaN</td>\n",
       "      <td>2.0</td>\n",
       "      <td>NaN</td>\n",
       "      <td>NaN</td>\n",
       "    </tr>\n",
       "    <tr>\n",
       "      <th>2</th>\n",
       "      <td>3</td>\n",
       "      <td>4.0</td>\n",
       "      <td>NaN</td>\n",
       "      <td>NaN</td>\n",
       "      <td>NaN</td>\n",
       "      <td>NaN</td>\n",
       "      <td>5.0</td>\n",
       "      <td>NaN</td>\n",
       "      <td>NaN</td>\n",
       "      <td>NaN</td>\n",
       "      <td>...</td>\n",
       "      <td>NaN</td>\n",
       "      <td>NaN</td>\n",
       "      <td>NaN</td>\n",
       "      <td>NaN</td>\n",
       "      <td>NaN</td>\n",
       "      <td>NaN</td>\n",
       "      <td>NaN</td>\n",
       "      <td>2.0</td>\n",
       "      <td>NaN</td>\n",
       "      <td>NaN</td>\n",
       "    </tr>\n",
       "    <tr>\n",
       "      <th>3</th>\n",
       "      <td>4</td>\n",
       "      <td>NaN</td>\n",
       "      <td>NaN</td>\n",
       "      <td>NaN</td>\n",
       "      <td>NaN</td>\n",
       "      <td>NaN</td>\n",
       "      <td>3.0</td>\n",
       "      <td>NaN</td>\n",
       "      <td>NaN</td>\n",
       "      <td>NaN</td>\n",
       "      <td>...</td>\n",
       "      <td>NaN</td>\n",
       "      <td>NaN</td>\n",
       "      <td>NaN</td>\n",
       "      <td>NaN</td>\n",
       "      <td>NaN</td>\n",
       "      <td>NaN</td>\n",
       "      <td>NaN</td>\n",
       "      <td>NaN</td>\n",
       "      <td>NaN</td>\n",
       "      <td>NaN</td>\n",
       "    </tr>\n",
       "    <tr>\n",
       "      <th>4</th>\n",
       "      <td>5</td>\n",
       "      <td>NaN</td>\n",
       "      <td>NaN</td>\n",
       "      <td>NaN</td>\n",
       "      <td>NaN</td>\n",
       "      <td>NaN</td>\n",
       "      <td>5.0</td>\n",
       "      <td>NaN</td>\n",
       "      <td>NaN</td>\n",
       "      <td>NaN</td>\n",
       "      <td>...</td>\n",
       "      <td>NaN</td>\n",
       "      <td>NaN</td>\n",
       "      <td>NaN</td>\n",
       "      <td>3.0</td>\n",
       "      <td>NaN</td>\n",
       "      <td>NaN</td>\n",
       "      <td>NaN</td>\n",
       "      <td>NaN</td>\n",
       "      <td>NaN</td>\n",
       "      <td>NaN</td>\n",
       "    </tr>\n",
       "  </tbody>\n",
       "</table>\n",
       "<p>5 rows × 611 columns</p>\n",
       "</div>"
      ],
      "text/plain": [
       "   movieId    1   2   3   4    5    6    7    8   9 ...   601  602  603  604  \\\n",
       "0        1  4.0 NaN NaN NaN  4.0  NaN  4.5  NaN NaN ...   4.0  NaN  4.0  3.0   \n",
       "1        2  NaN NaN NaN NaN  NaN  4.0  NaN  4.0 NaN ...   NaN  4.0  NaN  5.0   \n",
       "2        3  4.0 NaN NaN NaN  NaN  5.0  NaN  NaN NaN ...   NaN  NaN  NaN  NaN   \n",
       "3        4  NaN NaN NaN NaN  NaN  3.0  NaN  NaN NaN ...   NaN  NaN  NaN  NaN   \n",
       "4        5  NaN NaN NaN NaN  NaN  5.0  NaN  NaN NaN ...   NaN  NaN  NaN  3.0   \n",
       "\n",
       "   605  606  607  608  609  610  \n",
       "0  4.0  2.5  4.0  2.5  3.0  5.0  \n",
       "1  3.5  NaN  NaN  2.0  NaN  NaN  \n",
       "2  NaN  NaN  NaN  2.0  NaN  NaN  \n",
       "3  NaN  NaN  NaN  NaN  NaN  NaN  \n",
       "4  NaN  NaN  NaN  NaN  NaN  NaN  \n",
       "\n",
       "[5 rows x 611 columns]"
      ]
     },
     "execution_count": 97,
     "metadata": {},
     "output_type": "execute_result"
    }
   ],
   "source": [
    "rating_matrix = reshap_rating_data.reset_index()\n",
    "del rating_matrix.columns.name\n",
    "rating_matrix.head()"
   ]
  },
  {
   "cell_type": "markdown",
   "metadata": {},
   "source": [
    "# Found faster method to remove NaN pairs \n",
    "# No need to use for loop"
   ]
  },
  {
   "cell_type": "markdown",
   "metadata": {},
   "source": [
    "# New Pearson"
   ]
  },
  {
   "cell_type": "code",
   "execution_count": 98,
   "metadata": {},
   "outputs": [],
   "source": [
    "import math\n",
    "def pearson(rating_matrix, id_1, id_2):\n",
    "    # find movies that both users have rated\n",
    "    user_1 = rating_matrix[id_1]\n",
    "    user_2 = rating_matrix[id_2]\n",
    "    \n",
    "    bad = ~np.logical_or(np.isnan(user_1), np.isnan(user_2))\n",
    "    \n",
    "    user_1_l = np.compress(bad, user_1)\n",
    "    user_2_l = np.compress(bad, user_2)\n",
    "    \n",
    "    #special case\n",
    "    if len(user_1_l) == 0:\n",
    "        return 0\n",
    "    \n",
    "    result = np.corrcoef(user_1_l,user_2_l)[0][1]\n",
    "    \n",
    "    #special case\n",
    "    if math.isnan(result):\n",
    "        return 0\n",
    "\n",
    "    return result"
   ]
  },
  {
   "cell_type": "markdown",
   "metadata": {},
   "source": [
    "# New Cosine"
   ]
  },
  {
   "cell_type": "code",
   "execution_count": 99,
   "metadata": {},
   "outputs": [],
   "source": [
    "def cosine(rating_matrix, id_1, id_2):\n",
    "    # find movies that both users have rated\n",
    "    user_1 = rating_matrix[id_1]\n",
    "    user_2 = rating_matrix[id_2]\n",
    "    \n",
    "    bad = ~np.logical_or(np.isnan(user_1), np.isnan(user_2))\n",
    "    \n",
    "    user_1_l = np.compress(bad, user_1)\n",
    "    user_2_l = np.compress(bad, user_2)\n",
    "            \n",
    "    #special case\n",
    "    if len(user_1_l) == 0:\n",
    "        return 0\n",
    "\n",
    "    \n",
    "    dot_product = np.dot(user_1_l, user_2_l)\n",
    "    norm_a = np.linalg.norm(user_1_l)\n",
    "    norm_b = np.linalg.norm(user_2_l)\n",
    "    return dot_product / (norm_a * norm_b)"
   ]
  },
  {
   "cell_type": "markdown",
   "metadata": {},
   "source": [
    "# With new similarity function, Top Match can run much more faster\n",
    "# Top Match"
   ]
  },
  {
   "cell_type": "code",
   "execution_count": 100,
   "metadata": {},
   "outputs": [],
   "source": [
    "def topMatch(rating_matrix, id_1, sim_function):\n",
    "    result = []\n",
    "    for i in rating_matrix.columns.values.tolist()[1:]:\n",
    "        if i != id_1:\n",
    "            current_score = sim_function(rating_matrix, id_1, i)\n",
    "            result += [(current_score, i)]\n",
    "    result.sort(reverse = True)\n",
    "    return result[:20]"
   ]
  },
  {
   "cell_type": "code",
   "execution_count": 101,
   "metadata": {},
   "outputs": [
    {
     "data": {
      "text/plain": [
       "[(1.0, 550),\n",
       " (1.0, 333),\n",
       " (1.0, 146),\n",
       " (1.0, 106),\n",
       " (0.9999999999999999, 598),\n",
       " (0.9622504486493764, 473),\n",
       " (0.9258200997725513, 511),\n",
       " (0.9185586535436918, 9),\n",
       " (0.87831006565368, 13),\n",
       " (0.8728715609439694, 366),\n",
       " (0.8669214468630109, 401),\n",
       " (0.8664002254439636, 535),\n",
       " (0.8660254037844387, 481),\n",
       " (0.8660254037844387, 154),\n",
       " (0.8215838362577493, 90),\n",
       " (0.8029550685469661, 499),\n",
       " (0.8017837257372732, 157),\n",
       " (0.790569415042095, 139),\n",
       " (0.7869358789643608, 476),\n",
       " (0.7745966692414833, 487)]"
      ]
     },
     "execution_count": 101,
     "metadata": {},
     "output_type": "execute_result"
    }
   ],
   "source": [
    "topMatch(rating_matrix, 1, pearson)"
   ]
  },
  {
   "cell_type": "code",
   "execution_count": 102,
   "metadata": {},
   "outputs": [
    {
     "data": {
      "text/plain": [
       "[(1.0, 388),\n",
       " (1.0, 383),\n",
       " (1.0, 358),\n",
       " (1.0, 315),\n",
       " (1.0, 291),\n",
       " (1.0, 253),\n",
       " (1.0, 245),\n",
       " (1.0, 184),\n",
       " (1.0, 85),\n",
       " (1.0, 77),\n",
       " (0.9999999999999999, 12),\n",
       " (0.9999999999999998, 2),\n",
       " (0.999193447324659, 511),\n",
       " (0.9988130559615213, 278),\n",
       " (0.9986560262721613, 550),\n",
       " (0.9986331420538472, 366),\n",
       " (0.9986178293325098, 472),\n",
       " (0.9981149841863163, 459),\n",
       " (0.9980597354377347, 114),\n",
       " (0.9978250350798125, 65)]"
      ]
     },
     "execution_count": 102,
     "metadata": {},
     "output_type": "execute_result"
    }
   ],
   "source": [
    "topMatch(rating_matrix, 1, cosine)"
   ]
  },
  {
   "cell_type": "markdown",
   "metadata": {},
   "source": [
    "# Example in video "
   ]
  },
  {
   "cell_type": "markdown",
   "metadata": {},
   "source": [
    "https://www.bing.com/videos/search?q=recommendation+systems+collaborative+filtering+university+of+washington&&view=detail&mid=1DB77199CB8E00F3384B1DB77199CB8E00F3384B&&FORM=VDRVRV"
   ]
  },
  {
   "cell_type": "code",
   "execution_count": 103,
   "metadata": {},
   "outputs": [],
   "source": [
    "df_0=pd.read_csv('/Users/ziranmin/Desktop/Sophia课/ml-latest-small/example.csv')"
   ]
  },
  {
   "cell_type": "code",
   "execution_count": 104,
   "metadata": {},
   "outputs": [],
   "source": [
    "df_1 = df_0.pivot(index='movieId', columns='userId', values='rating')"
   ]
  },
  {
   "cell_type": "code",
   "execution_count": 105,
   "metadata": {},
   "outputs": [
    {
     "data": {
      "text/html": [
       "<div>\n",
       "<style scoped>\n",
       "    .dataframe tbody tr th:only-of-type {\n",
       "        vertical-align: middle;\n",
       "    }\n",
       "\n",
       "    .dataframe tbody tr th {\n",
       "        vertical-align: top;\n",
       "    }\n",
       "\n",
       "    .dataframe thead th {\n",
       "        text-align: right;\n",
       "    }\n",
       "</style>\n",
       "<table border=\"1\" class=\"dataframe\">\n",
       "  <thead>\n",
       "    <tr style=\"text-align: right;\">\n",
       "      <th></th>\n",
       "      <th>movieId</th>\n",
       "      <th>1</th>\n",
       "      <th>2</th>\n",
       "      <th>3</th>\n",
       "      <th>4</th>\n",
       "      <th>5</th>\n",
       "      <th>6</th>\n",
       "      <th>7</th>\n",
       "    </tr>\n",
       "  </thead>\n",
       "  <tbody>\n",
       "    <tr>\n",
       "      <th>0</th>\n",
       "      <td>1</td>\n",
       "      <td>2.5</td>\n",
       "      <td>3.0</td>\n",
       "      <td>2.5</td>\n",
       "      <td>NaN</td>\n",
       "      <td>3.0</td>\n",
       "      <td>3.0</td>\n",
       "      <td>NaN</td>\n",
       "    </tr>\n",
       "    <tr>\n",
       "      <th>1</th>\n",
       "      <td>2</td>\n",
       "      <td>3.5</td>\n",
       "      <td>3.5</td>\n",
       "      <td>3.0</td>\n",
       "      <td>3.5</td>\n",
       "      <td>4.0</td>\n",
       "      <td>4.0</td>\n",
       "      <td>4.5</td>\n",
       "    </tr>\n",
       "    <tr>\n",
       "      <th>2</th>\n",
       "      <td>3</td>\n",
       "      <td>3.0</td>\n",
       "      <td>1.5</td>\n",
       "      <td>NaN</td>\n",
       "      <td>3.0</td>\n",
       "      <td>2.0</td>\n",
       "      <td>NaN</td>\n",
       "      <td>NaN</td>\n",
       "    </tr>\n",
       "    <tr>\n",
       "      <th>3</th>\n",
       "      <td>4</td>\n",
       "      <td>3.5</td>\n",
       "      <td>5.0</td>\n",
       "      <td>3.5</td>\n",
       "      <td>4.0</td>\n",
       "      <td>3.0</td>\n",
       "      <td>5.0</td>\n",
       "      <td>4.0</td>\n",
       "    </tr>\n",
       "    <tr>\n",
       "      <th>4</th>\n",
       "      <td>5</td>\n",
       "      <td>2.5</td>\n",
       "      <td>3.5</td>\n",
       "      <td>NaN</td>\n",
       "      <td>2.5</td>\n",
       "      <td>2.0</td>\n",
       "      <td>3.5</td>\n",
       "      <td>1.0</td>\n",
       "    </tr>\n",
       "    <tr>\n",
       "      <th>5</th>\n",
       "      <td>6</td>\n",
       "      <td>3.0</td>\n",
       "      <td>3.0</td>\n",
       "      <td>4.0</td>\n",
       "      <td>4.5</td>\n",
       "      <td>3.0</td>\n",
       "      <td>3.0</td>\n",
       "      <td>NaN</td>\n",
       "    </tr>\n",
       "  </tbody>\n",
       "</table>\n",
       "</div>"
      ],
      "text/plain": [
       "   movieId    1    2    3    4    5    6    7\n",
       "0        1  2.5  3.0  2.5  NaN  3.0  3.0  NaN\n",
       "1        2  3.5  3.5  3.0  3.5  4.0  4.0  4.5\n",
       "2        3  3.0  1.5  NaN  3.0  2.0  NaN  NaN\n",
       "3        4  3.5  5.0  3.5  4.0  3.0  5.0  4.0\n",
       "4        5  2.5  3.5  NaN  2.5  2.0  3.5  1.0\n",
       "5        6  3.0  3.0  4.0  4.5  3.0  3.0  NaN"
      ]
     },
     "execution_count": 105,
     "metadata": {},
     "output_type": "execute_result"
    }
   ],
   "source": [
    "df_2 = df_1.reset_index()\n",
    "del df_2.columns.name\n",
    "df_2"
   ]
  },
  {
   "cell_type": "markdown",
   "metadata": {},
   "source": [
    "# Recommend Function "
   ]
  },
  {
   "cell_type": "code",
   "execution_count": 106,
   "metadata": {},
   "outputs": [],
   "source": [
    "def recommend(df_2, user, sim_function):\n",
    "    total_user_num = df_2.shape[1]\n",
    "    \n",
    "    A = df_2.loc[df_2[user].isnull()].drop(['movieId',user], axis=1).fillna(0).values\n",
    "    \n",
    "    sim_l = []\n",
    "    for i in df_2.columns.values.tolist()[1:]:\n",
    "        if i != user:\n",
    "            curr_sim = sim_function(df_2, user, i)\n",
    "            sim_l += [curr_sim]\n",
    "            \n",
    "    sim_l_array = np.array(sim_l)\n",
    "    B = sim_l_array.reshape((total_user_num -2,1))\n",
    "    \n",
    "    sum_score = np.dot(A,B)\n",
    "    \n",
    "    watched_unwatched = A.copy()\n",
    "    watched_unwatched[watched_unwatched>0] = 1\n",
    "    sum_sim = np.dot(watched_unwatched, B)\n",
    "    weighted_score = sum_score/sum_sim\n",
    "    \n",
    "    unseen_id = df_2.loc[df_2[user].isnull()]['movieId'].tolist()\n",
    "    \n",
    "    result_rank = []\n",
    "    for i in range(len(unseen_id)):\n",
    "        result_rank += [(weighted_score[i][0], unseen_id[i])]\n",
    "        \n",
    "    result_rank.sort(reverse = True)\n",
    "    return result_rank"
   ]
  },
  {
   "cell_type": "markdown",
   "metadata": {},
   "source": [
    "# Recommend Movie for User 7"
   ]
  },
  {
   "cell_type": "code",
   "execution_count": 107,
   "metadata": {},
   "outputs": [
    {
     "data": {
      "text/plain": [
       "[(3.1192015867855525, 6), (3.0022347306071273, 1), (2.5309807037655645, 3)]"
      ]
     },
     "execution_count": 107,
     "metadata": {},
     "output_type": "execute_result"
    }
   ],
   "source": [
    "recommend(df_2, 7, pearson)"
   ]
  },
  {
   "cell_type": "code",
   "execution_count": 108,
   "metadata": {},
   "outputs": [
    {
     "data": {
      "text/plain": [
       "[(3.423868647883322, 6), (2.7959647128789165, 1), (2.382318132517556, 3)]"
      ]
     },
     "execution_count": 108,
     "metadata": {},
     "output_type": "execute_result"
    }
   ],
   "source": [
    "recommend(df_2, 7, cosine)"
   ]
  },
  {
   "cell_type": "markdown",
   "metadata": {},
   "source": [
    "# Back to Large Dataset"
   ]
  },
  {
   "cell_type": "markdown",
   "metadata": {},
   "source": [
    "# Top 10 Recommendations for user 1 by Pearson"
   ]
  },
  {
   "cell_type": "code",
   "execution_count": 109,
   "metadata": {},
   "outputs": [
    {
     "data": {
      "text/plain": [
       "0.23742778106092"
      ]
     },
     "execution_count": 109,
     "metadata": {},
     "output_type": "execute_result"
    }
   ],
   "source": [
    "pearson(rating_matrix,1,86)"
   ]
  },
  {
   "cell_type": "code",
   "execution_count": 110,
   "metadata": {},
   "outputs": [
    {
     "data": {
      "text/plain": [
       "[(78.92869344315301, 1312),\n",
       " (56.29599486428759, 193),\n",
       " (54.28591122451324, 634),\n",
       " (36.4032268281137, 30816),\n",
       " (32.84226694454812, 4440),\n",
       " (31.011681906297962, 3046),\n",
       " (31.011681906297962, 1406),\n",
       " (30.570386845499826, 704),\n",
       " (26.741059596132477, 181),\n",
       " (22.653141446063774, 680),\n",
       " (18.60536683152634, 56336),\n",
       " (18.123028191510876, 881),\n",
       " (17.293178826790406, 6619),\n",
       " (16.613930401415484, 645),\n",
       " (12.231688207657403, 49910),\n",
       " (11.562507391059407, 711),\n",
       " (10.678374958619793, 5643),\n",
       " (10.405907946885208, 619),\n",
       " (10.35040567869407, 5696),\n",
       " (9.05123263538052, 86),\n",
       " (8.940151826530647, 667),\n",
       " (8.698411354324147, 5420),\n",
       " (8.672632703143368, 15),\n",
       " (8.542595960155584, 8531),\n",
       " (8.451451218442825, 1670),\n",
       " (8.164749760339003, 935),\n",
       " (7.19032237318008, 126),\n",
       " (7.035619528010808, 281),\n",
       " (6.90645231468517, 3787),\n",
       " (6.551884912150186, 6078),\n",
       " (6.121041841199566, 3884),\n",
       " (6.078581703816919, 3283),\n",
       " (5.978846123427465, 452),\n",
       " (5.9747006159752996, 3324),\n",
       " (5.761927947380438, 7380),\n",
       " (5.72008893315892, 3364),\n",
       " (5.522916828191926, 7756),\n",
       " (5.486357123256416, 3223),\n",
       " (5.467926750475722, 123),\n",
       " (5.464499681000846, 1006),\n",
       " (5.386279673457024, 5501),\n",
       " (5.317085839682134, 40),\n",
       " (5.3119692465677355, 82667),\n",
       " (5.204006302508466, 5181),\n",
       " (5.200994052169536, 27),\n",
       " (5.179387962189534, 14),\n",
       " (5.13590984733535, 3673),\n",
       " (5.096370512661997, 86892),\n",
       " (5.065477283058776, 5137),\n",
       " (5.064506357431789, 58),\n",
       " (5.002048135140696, 5288),\n",
       " (5.0, 85295),\n",
       " (5.0, 42556),\n",
       " (5.0, 6086),\n",
       " (5.0, 5746),\n",
       " (5.0, 5745),\n",
       " (5.0, 5723),\n",
       " (5.0, 5607),\n",
       " (5.0, 3851),\n",
       " (5.0, 3795),\n",
       " (5.0, 3792),\n",
       " (5.0, 3687),\n",
       " (5.0, 3678),\n",
       " (5.0, 99),\n",
       " (5.0, 53),\n",
       " (4.995117429140166, 7767),\n",
       " (4.993575993826938, 1050),\n",
       " (4.959778597521412, 82),\n",
       " (4.928431072233889, 3855),\n",
       " (4.924521977169985, 1041),\n",
       " (4.922161919653376, 7486),\n",
       " (4.920566154600553, 1413),\n",
       " (4.910312188274859, 278),\n",
       " (4.905473418374832, 5637),\n",
       " (4.902132985934226, 283),\n",
       " (4.874896818792227, 7450),\n",
       " (4.867945333687853, 280),\n",
       " (4.82889461750499, 5618),\n",
       " (4.793383330200371, 1004),\n",
       " (4.789376411098128, 1128)]"
      ]
     },
     "execution_count": 110,
     "metadata": {},
     "output_type": "execute_result"
    }
   ],
   "source": [
    "recommend(rating_matrix, 1, pearson)[:80]"
   ]
  },
  {
   "cell_type": "markdown",
   "metadata": {},
   "source": [
    "# Top 10 Recommendations for user 1 by Cosine"
   ]
  },
  {
   "cell_type": "code",
   "execution_count": 111,
   "metadata": {},
   "outputs": [
    {
     "data": {
      "text/plain": [
       "[(5.000000000000001, 141718),\n",
       " (5.000000000000001, 86721),\n",
       " (5.000000000000001, 44943),\n",
       " (5.000000000000001, 6192),\n",
       " (5.000000000000001, 5745),\n",
       " (5.000000000000001, 5723),\n",
       " (5.000000000000001, 5607),\n",
       " (5.000000000000001, 5241),\n",
       " (5.000000000000001, 5088),\n",
       " (5.000000000000001, 3096),\n",
       " (5.000000000000001, 2824),\n",
       " (5.0, 158027),\n",
       " (5.0, 147410),\n",
       " (5.0, 146684),\n",
       " (5.0, 146662),\n",
       " (5.0, 143559),\n",
       " (5.0, 143031),\n",
       " (5.0, 142444),\n",
       " (5.0, 139640),\n",
       " (5.0, 138966),\n",
       " (5.0, 6611),\n",
       " (5.0, 6408),\n",
       " (5.0, 6402),\n",
       " (5.0, 6201),\n",
       " (5.0, 6086),\n",
       " (5.0, 6021),\n",
       " (5.0, 5746),\n",
       " (5.0, 5537),\n",
       " (5.0, 5513),\n",
       " (5.0, 5490),\n",
       " (5.0, 5468),\n",
       " (5.0, 5416),\n",
       " (5.0, 5328),\n",
       " (5.0, 5244),\n",
       " (5.0, 5059),\n",
       " (5.0, 3086),\n",
       " (5.0, 3073),\n",
       " (5.0, 2972),\n",
       " (5.0, 2969),\n",
       " (5.0, 2512),\n",
       " (5.0, 2196),\n",
       " (5.0, 2075),\n",
       " (5.0, 1759),\n",
       " (5.0, 1631),\n",
       " (5.0, 1349),\n",
       " (5.0, 1310),\n",
       " (5.0, 1151),\n",
       " (5.0, 1140),\n",
       " (5.0, 876),\n",
       " (5.0, 633),\n",
       " (5.0, 496),\n",
       " (5.0, 495),\n",
       " (5.0, 467),\n",
       " (5.0, 148),\n",
       " (5.0, 99),\n",
       " (4.999999999999999, 6442),\n",
       " (4.999999999999999, 5889),\n",
       " (4.999999999999999, 5888),\n",
       " (4.999999999999999, 626),\n",
       " (4.999999999999999, 53)]"
      ]
     },
     "execution_count": 111,
     "metadata": {},
     "output_type": "execute_result"
    }
   ],
   "source": [
    "recommend(rating_matrix, 1, cosine)[:60]"
   ]
  },
  {
   "cell_type": "code",
   "execution_count": null,
   "metadata": {},
   "outputs": [],
   "source": []
  }
 ],
 "metadata": {
  "kernelspec": {
   "display_name": "Python 3",
   "language": "python",
   "name": "python3"
  },
  "language_info": {
   "codemirror_mode": {
    "name": "ipython",
    "version": 3
   },
   "file_extension": ".py",
   "mimetype": "text/x-python",
   "name": "python",
   "nbconvert_exporter": "python",
   "pygments_lexer": "ipython3",
   "version": "3.6.5"
  }
 },
 "nbformat": 4,
 "nbformat_minor": 2
}
